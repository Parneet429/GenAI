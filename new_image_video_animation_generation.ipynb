{
  "cells": [
    {
      "cell_type": "markdown",
      "metadata": {
        "id": "view-in-github",
        "colab_type": "text"
      },
      "source": [
        "<a href=\"https://colab.research.google.com/github/Parneet429/GenAI/blob/main/new_image_video_animation_generation.ipynb\" target=\"_parent\"><img src=\"https://colab.research.google.com/assets/colab-badge.svg\" alt=\"Open In Colab\"/></a>"
      ]
    },
    {
      "cell_type": "markdown",
      "source": [
        "# Project Title: Generation of Artificial Intelligence Images and GIFs using Replicate"
      ],
      "metadata": {
        "id": "4DbIV-MKaRm3"
      }
    },
    {
      "cell_type": "markdown",
      "source": [
        "## Brief description of the Project scope :\n",
        "The project will use Replicate's Image and GIF Generative AI, enabling users to utilize AI-powered techniques for creating a diverse array of visually captivating material. One aspect of this is familiarizing oneself with Replicate's model capabilities, facilitating API integration, and designing a user-friendly interface for generating content from prompts.\n"
      ],
      "metadata": {
        "id": "ICKY2jUTaUMm"
      }
    },
    {
      "cell_type": "markdown",
      "source": [
        "## Group Members :\n",
        "- Amarjeet Singh 4358427\n",
        "- Parneet kaur 4358429\n"
      ],
      "metadata": {
        "id": "6pf9WJNEaWcm"
      }
    },
    {
      "cell_type": "markdown",
      "source": [
        "## Detailed Project Description\n",
        "-\tWith consideration for variety, quality, and scalability, this algorithmic analysis and selection aims to analyze and choose the designs of GANs or VAEs that are most suited for producing images and GIFs.\n",
        "\n",
        "-\tAs part of the development and implementation process, the required software architecture is created, algorithms are implemented, and settings are adjusted to provide visually better output.\n",
        "\n",
        "-\tTo guarantee high quality, consistency, and variety in the produced outputs, it is essential to conduct a comprehensive evaluation throughout the testing and optimization process. User preferences and feedback systems should be included into algorithm tuning.\n",
        "\n"
      ],
      "metadata": {
        "id": "BDiWfMVyaZDO"
      }
    },
    {
      "cell_type": "markdown",
      "source": [
        "## Objectve:\n",
        "Application of Methodology: Develop advanced Generative Adversarial Networks (GANs) or Variational Autoencoders (VAEs) to generate diverse and high-quality visual content, mainly images and GIFs. Explore new ways to use generative AI to create visual content, aiming to foster originality and creativity in the end output. Enhance algorithms for diverse content production and construct scalable systems capable of handling increasing complexity and evolving user preferences.\n"
      ],
      "metadata": {
        "id": "fLnnwcq2mds2"
      }
    },
    {
      "cell_type": "markdown",
      "source": [
        "## Expected Outcomes:\n",
        "-\tBuilding a sophisticated system that can generate various high-quality images and animated GIFs automatically is the main objective of this project. Clients will have access to a novel and scalable solution for content development with this system, which offers a wide range of customizable outputs to cater to various creative needs and preferences.\n",
        "\n",
        "-\tGenerate a Wide Range of High-Resolution Images and Animated GIFs to Showcase Quality and Consistency. Come up with visually appealing content in many styles, genres, and settings.\n",
        "\n",
        "-\tPersonalized outputs tailored to each user's tastes and specific requirements constitute user-centric customization. Including facilities for user input to iteratively refine and enhance produced content.\n",
        "\n",
        "-\tGoals and Objectives: With Replicate's features, you may quickly and effortlessly create a wide variety of high-quality GIFs and photos.\n",
        "\n",
        "-\tTo facilitate further in-depth research or model improvement, Replicate provides application programming interfaces (APIs) that make it simpler to obtain and utilize data from several sources.\n",
        "\n"
      ],
      "metadata": {
        "id": "Ht7d27b1mCvW"
      }
    },
    {
      "cell_type": "markdown",
      "source": [
        "## Modification/New Addition Specification:\n",
        "- The project will include enhancing Replicate's Image and GIF Generative AI, with a specific emphasis on enhancing model intelligence and optimizing API interactions.\n",
        "- One of the latest enhancements is the enhanced management of alerts, enabling users to create more intricate material.\n",
        "- The user interface will be enhanced to optimize usability. The purpose of these modifications is to enhance the project's use and appeal to users, while also showcasing Replicate's advancing AI capabilities in generating photos and GIFs.\n"
      ],
      "metadata": {
        "id": "-T2nlWnsaa-d"
      }
    },
    {
      "cell_type": "markdown",
      "source": [
        "## Justification And Impact:\n",
        "The purpose of these modifications and enhancements is to enhance the project's significance by refining Replicate's artificial intelligence capabilities.\n",
        "\n",
        "- Enhanced model development and improved prompt handling enable the creation of more intricate and personalized material for each users.\n",
        "- The enhanced user interface ensures accessibility for all users. Overall, these modifications enhance the use and adaptability of Replicate as a tool for creative expression, becoming it more valuable for individuals seeking to convey distinctive narratives via images and GIFs.\n"
      ],
      "metadata": {
        "id": "CaYkrozRafaB"
      }
    },
    {
      "cell_type": "markdown",
      "source": [
        "## Criteria-Specific Cell:\n",
        "### Replicate's Image and GIF Generative AI project relevance:\n",
        "- The initiative is significant because to its ability to address the increasing need for AI-driven content generation. It does this by using Replicate's Image and GIF Generative AI to cater to the requirements of users in creative fields, marketing, and education.\n",
        "- The project represents a significant advancement in the realm of AI-driven visual content generation. It demonstrates how Replicate enhances the creative and productive aspects of digital content production, resulting in a more captivating and dynamic digital landscape, Creating objects.\n",
        "\n",
        "### Application\n",
        "- Image and GIF of Representative Replicate Generative AI projects have applications in marketing, education, and the creative sectors.\n",
        "\n",
        "- It facilitates users in creating a diverse array of visual information that is tailored to their specific requirements. Replicate's tremendous AI powers are shown via this versatile tool, which enhances the content creation process and promotes innovative storytelling and artistic expression online.\n",
        "\n",
        "### Innovation\n",
        "The distinguishing aspect of Replicate's Image and GIF Generative AI project is in its transformative impact on the process of material creation. It revolutionizes the narrative of visual storytelling via the use of state-of-the-art AI algorithms. Users are provided with unprecedented creative possibilities via the use of advanced algorithms, improved timely management, and a user-friendly interface. This innovative concept represents a significant advancement, demonstrating Replicate's commitment to broadening the potential of created art and enhancing the creative realm.\n",
        "\n",
        "### Technical proficiency\n",
        "- To get technical expertise in the Replicate's Image and GIF Generative AI project, one must become proficient in integrating the Replicate API.\n",
        "- It involves a comprehensive comprehension of AI model setups in Replicate, optimizing API requests, and implementing user interactions based on prompts.\n",
        "- Proficiency encompasses the ability to effectively manage API answers, handle issues, and ensure smooth performance, showcasing knowledge with Replicate's sophisticated AI technologies.\n",
        "\n",
        "\n",
        "\n"
      ],
      "metadata": {
        "id": "Ftyma5ZuahcB"
      }
    },
    {
      "cell_type": "code",
      "execution_count": null,
      "metadata": {
        "colab": {
          "base_uri": "https://localhost:8080/"
        },
        "id": "K-f4rzIDbk8n",
        "outputId": "55ab4d3b-138c-4cfe-ab4a-ca230654d925"
      },
      "outputs": [
        {
          "output_type": "stream",
          "name": "stdout",
          "text": [
            "Collecting replicate\n",
            "  Downloading replicate-0.24.0-py3-none-any.whl (37 kB)\n",
            "Collecting httpx<1,>=0.21.0 (from replicate)\n",
            "  Downloading httpx-0.27.0-py3-none-any.whl (75 kB)\n",
            "\u001b[2K     \u001b[90m━━━━━━━━━━━━━━━━━━━━━━━━━━━━━━━━━━━━━━━━\u001b[0m \u001b[32m75.6/75.6 kB\u001b[0m \u001b[31m1.7 MB/s\u001b[0m eta \u001b[36m0:00:00\u001b[0m\n",
            "\u001b[?25hRequirement already satisfied: packaging in /usr/local/lib/python3.10/dist-packages (from replicate) (24.0)\n",
            "Requirement already satisfied: pydantic>1 in /usr/local/lib/python3.10/dist-packages (from replicate) (2.6.4)\n",
            "Requirement already satisfied: typing-extensions>=4.5.0 in /usr/local/lib/python3.10/dist-packages (from replicate) (4.10.0)\n",
            "Requirement already satisfied: anyio in /usr/local/lib/python3.10/dist-packages (from httpx<1,>=0.21.0->replicate) (3.7.1)\n",
            "Requirement already satisfied: certifi in /usr/local/lib/python3.10/dist-packages (from httpx<1,>=0.21.0->replicate) (2024.2.2)\n",
            "Collecting httpcore==1.* (from httpx<1,>=0.21.0->replicate)\n",
            "  Downloading httpcore-1.0.4-py3-none-any.whl (77 kB)\n",
            "\u001b[2K     \u001b[90m━━━━━━━━━━━━━━━━━━━━━━━━━━━━━━━━━━━━━━━━\u001b[0m \u001b[32m77.8/77.8 kB\u001b[0m \u001b[31m8.1 MB/s\u001b[0m eta \u001b[36m0:00:00\u001b[0m\n",
            "\u001b[?25hRequirement already satisfied: idna in /usr/local/lib/python3.10/dist-packages (from httpx<1,>=0.21.0->replicate) (3.6)\n",
            "Requirement already satisfied: sniffio in /usr/local/lib/python3.10/dist-packages (from httpx<1,>=0.21.0->replicate) (1.3.1)\n",
            "Collecting h11<0.15,>=0.13 (from httpcore==1.*->httpx<1,>=0.21.0->replicate)\n",
            "  Downloading h11-0.14.0-py3-none-any.whl (58 kB)\n",
            "\u001b[2K     \u001b[90m━━━━━━━━━━━━━━━━━━━━━━━━━━━━━━━━━━━━━━━━\u001b[0m \u001b[32m58.3/58.3 kB\u001b[0m \u001b[31m6.5 MB/s\u001b[0m eta \u001b[36m0:00:00\u001b[0m\n",
            "\u001b[?25hRequirement already satisfied: annotated-types>=0.4.0 in /usr/local/lib/python3.10/dist-packages (from pydantic>1->replicate) (0.6.0)\n",
            "Requirement already satisfied: pydantic-core==2.16.3 in /usr/local/lib/python3.10/dist-packages (from pydantic>1->replicate) (2.16.3)\n",
            "Requirement already satisfied: exceptiongroup in /usr/local/lib/python3.10/dist-packages (from anyio->httpx<1,>=0.21.0->replicate) (1.2.0)\n",
            "Installing collected packages: h11, httpcore, httpx, replicate\n",
            "Successfully installed h11-0.14.0 httpcore-1.0.4 httpx-0.27.0 replicate-0.24.0\n"
          ]
        }
      ],
      "source": [
        "# @title Install Replicate\n",
        "!pip install replicate"
      ]
    },
    {
      "cell_type": "markdown",
      "metadata": {
        "id": "4v_YifVbl69O"
      },
      "source": [
        "https://replicate.com/andreasjansson/stable-diffusion-animation/api#input-output_format\n",
        "List of parameters"
      ]
    },
    {
      "cell_type": "code",
      "execution_count": null,
      "metadata": {
        "id": "cFmhr3PSf4G2"
      },
      "outputs": [],
      "source": [
        "# @title #Get your here: https://replicate.com/signin?next=/account/api-tokens (free for few trials)\n",
        "API = \"r8_Z1H71nWlSGCOeFxN3fSqcKZFEFhI8Uf2rK9ff\" # @param {type:\"string\"}\n",
        "import os\n",
        "\n",
        "os.environ[\"REPLICATE_API_TOKEN\"] = API #find it here: https://replicate.com/signin?next=/account/api-tokens\n"
      ]
    },
    {
      "cell_type": "code",
      "execution_count": null,
      "metadata": {
        "colab": {
          "base_uri": "https://localhost:8080/"
        },
        "id": "0zz83wA6cqSF",
        "outputId": "ceef14b6-5ad9-46d0-80c0-b52b0b28f790"
      },
      "outputs": [
        {
          "output_type": "execute_result",
          "data": {
            "text/plain": [
              "['https://replicate.delivery/pbxt/ruJ6BvTbfvW4WCcpJjxJ0zDemCeP8P1Kewpw47Mb5PxEq3FKB/out-0.png']"
            ]
          },
          "metadata": {},
          "execution_count": 4
        }
      ],
      "source": [
        "\n",
        "# @title Generate Image\n",
        "prompt = \"frog on head of frog\"\n",
        "import replicate\n",
        "\n",
        "output = replicate.run(\n",
        "  \"stability-ai/stable-diffusion:27b93a2413e7f36cd83da926f3656280b2931564ff050bf9575f1fdf9bcd7478\",\n",
        "  input={\"prompt\":prompt}\n",
        ")\n",
        "\n",
        "output"
      ]
    },
    {
      "cell_type": "code",
      "execution_count": null,
      "metadata": {
        "colab": {
          "base_uri": "https://localhost:8080/",
          "height": 533
        },
        "id": "hwXEISnemCLj",
        "outputId": "a872e0c7-8a20-465d-c822-245acd2405fd"
      },
      "outputs": [
        {
          "output_type": "execute_result",
          "data": {
            "text/html": [
              "<img src=\"https://replicate.delivery/pbxt/ruJ6BvTbfvW4WCcpJjxJ0zDemCeP8P1Kewpw47Mb5PxEq3FKB/out-0.png\"/>"
            ],
            "text/plain": [
              "<IPython.core.display.Image object>"
            ]
          },
          "metadata": {},
          "execution_count": 5
        }
      ],
      "source": [
        "# @title Show image\n",
        "from IPython.display import Image\n",
        "output_image = output\n",
        "Image(url=output_image[0])"
      ]
    },
    {
      "cell_type": "code",
      "execution_count": null,
      "metadata": {
        "colab": {
          "base_uri": "https://localhost:8080/"
        },
        "id": "Misa5E4QiWNZ",
        "outputId": "5543b75b-1323-4739-d9a0-11e0d0c23d32"
      },
      "outputs": [
        {
          "output_type": "execute_result",
          "data": {
            "text/plain": [
              "<generator object Prediction.output_iterator at 0x7b1034187140>"
            ]
          },
          "metadata": {},
          "execution_count": 7
        }
      ],
      "source": [
        "# @title Video/gif/animation/Generation\n",
        "import replicate\n",
        "\n",
        "output = replicate.run(\n",
        "    \"andreasjansson/stable-diffusion-animation:ca1f5e306e5721e19c473e0d094e6603f0456fe759c10715fcd6c1b79242d4a5\",\n",
        "    input={\n",
        "        \"prompt_start\": \"frog jumping from the leaf\",\n",
        "        \"prompt_end\": \"frog jumped in water\",\n",
        "        \"output_format\": \"gif\",\n",
        "        \"gif_ping_pong\": True\n",
        "    }\n",
        ")\n",
        "\n",
        "output\n",
        "\n"
      ]
    },
    {
      "cell_type": "code",
      "execution_count": null,
      "metadata": {
        "colab": {
          "base_uri": "https://localhost:8080/"
        },
        "id": "BB0LZJTyjA7Z",
        "outputId": "1f4611f4-ad10-40e1-b696-75cdd6d79149"
      },
      "outputs": [
        {
          "output_type": "stream",
          "name": "stdout",
          "text": [
            "https://replicate.delivery/pbxt/zibqYwBtStoLG9s98ep12xUXA64CFNhQBmUPUayEOJTGAvQJA/video.gif\n"
          ]
        }
      ],
      "source": [
        "# @title generate video\n",
        "for item in output:\n",
        "     #https://replicate.com/andreasjansson/stable-diffusion-animation/versions/ca1f5e306e5721e19c473e0d094e6603f0456fe759c10715fcd6c1b79242d4a5/api#output-schema\n",
        "    print(item)"
      ]
    },
    {
      "cell_type": "code",
      "execution_count": null,
      "metadata": {
        "id": "fuPgsixhkxM4"
      },
      "outputs": [],
      "source": [
        "# @title get the video on colab\n",
        "gif_url= item[0:len(item)]"
      ]
    },
    {
      "cell_type": "code",
      "execution_count": null,
      "metadata": {
        "colab": {
          "base_uri": "https://localhost:8080/",
          "height": 533
        },
        "id": "6VPPvsE3km93",
        "outputId": "287c79c9-5f40-4571-8d29-4863857b449a"
      },
      "outputs": [
        {
          "output_type": "display_data",
          "data": {
            "text/html": [
              "<img src=\"https://replicate.delivery/pbxt/zibqYwBtStoLG9s98ep12xUXA64CFNhQBmUPUayEOJTGAvQJA/video.gif\"/>"
            ],
            "text/plain": [
              "<IPython.core.display.Image object>"
            ]
          },
          "metadata": {}
        }
      ],
      "source": [
        "# @title Show the video\n",
        "import requests\n",
        "from IPython.display import display, Image\n",
        "from PIL import Image as PILImage\n",
        "from io import BytesIO\n",
        "response = requests.get(gif_url)\n",
        "if response.status_code == 200:\n",
        "    # Display the GIF in the notebook\n",
        "    display(Image(url=gif_url))\n",
        "\n",
        "    # Save the GIF in the Colab environment\n",
        "    with open(\"gif_output.gif\", \"wb\") as f:\n",
        "        f.write(response.content)\n",
        "\n",
        "    # Show a saved GIF using PIL\n",
        "    saved_gif = PILImage.open(\"gif_output.gif\")\n",
        "    saved_gif.show()\n",
        "else:\n",
        "    print(\"Failed to fetch GIF\")\n"
      ]
    },
    {
      "cell_type": "markdown",
      "source": [
        "# REFERENCES\n",
        "- Turna. GitHub. https://github.com/turna1/GenAI\n",
        "- Google Colab.https://colab.google/"
      ],
      "metadata": {
        "id": "IgAdt2CZdC2t"
      }
    },
    {
      "cell_type": "markdown",
      "source": [
        "## Video Presentation Link"
      ],
      "metadata": {
        "id": "_vosGVKndPnk"
      }
    },
    {
      "cell_type": "markdown",
      "source": [
        "# THANKYOU"
      ],
      "metadata": {
        "id": "kzXbYLCNdK1z"
      }
    }
  ],
  "metadata": {
    "colab": {
      "provenance": [],
      "include_colab_link": true
    },
    "kernelspec": {
      "display_name": "Python 3",
      "name": "python3"
    },
    "language_info": {
      "name": "python"
    }
  },
  "nbformat": 4,
  "nbformat_minor": 0
}